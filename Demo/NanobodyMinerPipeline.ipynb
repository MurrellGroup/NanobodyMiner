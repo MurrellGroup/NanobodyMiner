{
 "cells": [
  {
   "cell_type": "markdown",
   "id": "382a7883",
   "metadata": {},
   "source": [
    "## Phase I: Preprocessing\n",
    "This includes filtering .fastq files, extracting sequences, trimming primers, and generating a \"tall\" form CSV file (ie. the same variant appears in multiple lines, for different datasets, prefixes, etc). "
   ]
  },
  {
   "cell_type": "code",
   "execution_count": null,
   "id": "1f3f1169",
   "metadata": {},
   "outputs": [],
   "source": [
    "#using Pkg\n",
    "#Pkg.add([\"YAML\", \"PyPlot\", \"DataFrames\", \"CSV\", \"NearestNeighbors\", \"LightGraphs\", \"LazySets\", \"Distances\", \"SparseArrays\"])\n",
    "#Pkg.add(PackageSpec(;name=\"SeqUMAP\",url=\"https://github.com/murrellb/SeqUMAP.jl.git\"))\n",
    "#Pkg.add(PackageSpec(name=\"NextGenSeqUtils\", rev=\"1.5.3\", url = \"https://github.com/MurrellGroup/NextGenSeqUtils.jl.git\"))\n",
    "\n",
    "using YAML, NextGenSeqUtils, PyPlot, StatsBase, DataFrames, CSV, SeqUMAP, NearestNeighbors, LightGraphs, LazySets, Distances, SparseArrays\n",
    "\n",
    "include(\"../src/functions.jl\")"
   ]
  },
  {
   "cell_type": "code",
   "execution_count": null,
   "id": "868e87d9",
   "metadata": {},
   "outputs": [],
   "source": [
    "yaml = YAML.load_file(\"config.yaml\")"
   ]
  },
  {
   "cell_type": "code",
   "execution_count": null,
   "id": "853ccdac",
   "metadata": {},
   "outputs": [],
   "source": [
    "#Need to generalize this so that the yaml can specify multiple fwd and/or rev primers\n",
    "#but this is fine for our current protocol\n",
    "fwd_primer_options = uppercase.([yaml[\"primers\"][\"fwd\"]])\n",
    "rev_primer_options = uppercase.([yaml[\"primers\"][\"rev\"]]);\n",
    "\n",
    "min_fwd = min(20,minimum(length.(fwd_primer_options)))\n",
    "min_rev = min(20,minimum(length.(rev_primer_options)))\n",
    "short_fwd = [p[1:min_fwd] for p in fwd_primer_options]\n",
    "short_rev = [p[1:min_rev] for p in rev_primer_options];"
   ]
  },
  {
   "cell_type": "code",
   "execution_count": null,
   "id": "3cec81e1",
   "metadata": {},
   "outputs": [],
   "source": [
    "fnames = [f[\"filename\"] for f in yaml[\"files\"]]\n",
    "outputnames = [f[\"label\"] for f in yaml[\"files\"]];\n",
    "\n",
    "filtered_path = \"Filtered/\"\n",
    "processed_path = \"Processed/\"\n",
    "\n",
    "required_directory_list = [filtered_path,processed_path,\"Collected/\",\"Lineages/\",\"Logging/\",\"Plots/\",\"Plots/Correlations/\",\"Selections/\"]\n",
    "for d in required_directory_list\n",
    "    if !isdir(d)\n",
    "        println(\"Directory $(d) must exist - creating it.\")\n",
    "        mkdir(d)\n",
    "    end\n",
    "end\n",
    "\n",
    "for f in fnames\n",
    "    if !isfile(f)\n",
    "        @error \"$(f), specified in the config file, is not present\"\n",
    "    end\n",
    "end"
   ]
  },
  {
   "cell_type": "code",
   "execution_count": null,
   "id": "cc16d40f",
   "metadata": {},
   "outputs": [],
   "source": [
    "for i in 1:length(fnames)\n",
    "    fname = fnames[i]\n",
    "    outname = outputnames[i]\n",
    "    println(fname,\" => \",outname)\n",
    "    figure()\n",
    "    length_vs_qual(fname,alpha = 0.005);\n",
    "    savefig(filtered_path*outname*\"_LvQ.png\")\n",
    "    fastq_filter(fname, filtered_path*outname*\"_filt.fastq\", error_rate = 0.01, min_length = 300);\n",
    "    \n",
    "    println(\"Reading filtered seqs\")\n",
    "    sleep(0.5)\n",
    "    \n",
    "    seqs,phreds,seqnames = read_fastq(filtered_path*outname*\"_filt.fastq\");\n",
    "    \n",
    "    println(\"Demuxing\")\n",
    "    sleep(0.5)\n",
    "    demux_dic = demux_dict(seqs,short_fwd,short_rev,verbose=false,tol_one_error = true);\n",
    "    \n",
    "    println(\"Trimming\")\n",
    "    sleep(0.5)\n",
    "    trimmed_seqs = []\n",
    "    for k in keys(demux_dic)\n",
    "        push!(trimmed_seqs,[double_primer_trim(seqpair[1],fwd_primer_options[k[1]],rev_primer_options[k[2]]) for seqpair in demux_dic[k]])\n",
    "    end\n",
    "\n",
    "    println(\"Collapsing and exporting\")\n",
    "    sleep(0.5)\n",
    "    seqs = vcat(trimmed_seqs...);\n",
    "    ka = collapse(seqs,prefix = outname*\"_\");\n",
    "    write_fasta(processed_path*outname*\".trimmed.fasta\",ka[2],names = ka[1])\n",
    "    write_fasta(processed_path*outname*\".top500.trimmed.fasta\",ka[2][1:500],names = ka[1][1:500])\n",
    "end\n",
    "\n",
    "proc_names = outputnames.*\".trimmed.fasta\";"
   ]
  },
  {
   "cell_type": "code",
   "execution_count": null,
   "id": "85ced570",
   "metadata": {},
   "outputs": [],
   "source": [
    "#barcode_list = grow(grow(grow([\"T\",\"G\"],[\"A\",\"T\"]),[\"A\",\"C\",\"G\",\"T\"]),[\"A\",\"C\",\"G\",\"T\"])\n",
    "barcode_list = grow(grow([\"T\",\"G\"],[\"A\",\"T\"]),[\"A\",\"C\",\"G\",\"T\"])\n",
    "#barcode_list = [\"A\",\"C\",\"G\",\"T\"]\n",
    "barcode2int = Dict(zip(barcode_list,1:length(barcode_list)));"
   ]
  },
  {
   "cell_type": "code",
   "execution_count": null,
   "id": "85d37123",
   "metadata": {},
   "outputs": [],
   "source": [
    "variants = []\n",
    "for fname in proc_names[end:-1:1]\n",
    "    println(fname)\n",
    "    n,s = read_fasta_with_names(processed_path*fname)\n",
    "    println(length(n))\n",
    "    for i in 1:length(n)\n",
    "        v = encode_variant(n[i],s[i])\n",
    "        if v[5] != \"bad\" && v[6] #This is where we xclude non-functional variants.\n",
    "            push!(variants,v)\n",
    "        end\n",
    "    end\n",
    "end"
   ]
  },
  {
   "cell_type": "code",
   "execution_count": null,
   "id": "ef3b54e6",
   "metadata": {},
   "outputs": [],
   "source": [
    "countmap([v[1] for v in variants])"
   ]
  },
  {
   "cell_type": "code",
   "execution_count": null,
   "id": "c12b4798",
   "metadata": {},
   "outputs": [],
   "source": [
    "#dataset,count, barcode_num,prefix,hinge,functional,trimmed_AA_seq,outseq\n",
    "df = DataFrame()\n",
    "df.dataset = [v[1] for v in variants]\n",
    "df.count = [v[2] for v in variants]\n",
    "df.barcode_num = [v[3] for v in variants]\n",
    "df.prefix = [v[4] for v in variants]\n",
    "df.hinge = [v[5] for v in variants]\n",
    "df.functional = [v[6] for v in variants]\n",
    "df.trimmed_AA_seq = [v[7] for v in variants]\n",
    "df.trimmed_nuc_seq = [v[8] for v in variants];"
   ]
  },
  {
   "cell_type": "code",
   "execution_count": null,
   "id": "90665fbe",
   "metadata": {},
   "outputs": [],
   "source": [
    "alldatasets = sort(union(df.dataset))\n",
    "alldatasets = alldatasets[sortperm(alldatasets .== yaml[\"baseline\"], rev = true)]\n",
    "\n",
    "dataset_counts = [sum(df.count[df.dataset .== d]) for d in alldatasets]\n",
    "dataset2counts = Dict(zip(alldatasets,dataset_counts))\n",
    "\n",
    "df.frequencies = [(df.count[i])/dataset2counts[df.dataset[i]] for i in 1:length(df.count)];\n",
    "CSV.write(\"Collected/trimmed.csv\",df);"
   ]
  },
  {
   "cell_type": "markdown",
   "id": "e668b8e5",
   "metadata": {},
   "source": [
    "## Phase II: Aggregating variants and calculating metrics\n",
    "This takes the \"tall\" CSV, and collapses by variant (ignoring variation introduced by the cloning primer). It uses this cloning primer variation to create correlation plots that give a sense of how reliable the panning was. Random/failed panning will give worse correlations. It also maps CDRs"
   ]
  },
  {
   "cell_type": "code",
   "execution_count": null,
   "id": "8c948db1",
   "metadata": {},
   "outputs": [],
   "source": [
    "df = CSV.read(\"Collected/trimmed.csv\", DataFrame);\n",
    "\n",
    "alldatasets = sort(union(df.dataset))\n",
    "alldatasets = alldatasets[sortperm(alldatasets .== yaml[\"baseline\"], rev = true)]\n",
    "baseline_ind = findfirst(alldatasets .== yaml[\"baseline\"]);\n",
    "\n",
    "println(\"Baseline dataset is \",alldatasets[1])\n",
    "dataset_counts = [sum(df.count[df.dataset .== d]) for d in alldatasets]\n",
    "dataset2counts = Dict(zip(alldatasets,dataset_counts))\n",
    "\n",
    "dataset2ind = Dict(zip(alldatasets,1:length(alldatasets)));\n",
    "variant_master_list = sort(union(df.trimmed_nuc_seq))\n",
    "variant2ind = Dict(zip(variant_master_list,1:length(union(df.trimmed_nuc_seq))));\n",
    "\n",
    "num_barcodes = maximum(df.barcode_num);"
   ]
  },
  {
   "cell_type": "code",
   "execution_count": null,
   "id": "367288cf",
   "metadata": {},
   "outputs": [],
   "source": [
    "#variants, datasets, barcodes\n",
    "#This is ones to get pseudocounts\n",
    "count_matrix = zeros(length(variant2ind),length(dataset2ind),num_barcodes);\n",
    "\n",
    "for i in 1:size(df)[1]\n",
    "    v_ind = variant2ind[df.trimmed_nuc_seq[i]]\n",
    "    dset = dataset2ind[df.dataset[i]]\n",
    "    bcode = df.barcode_num[i]\n",
    "    if bcode > 0\n",
    "        count = df.count[i]\n",
    "        count_matrix[v_ind,dset,bcode] += count\n",
    "    end\n",
    "end\n",
    "\n",
    "#Matrix of frequencies over all \"barcode\" variants\n",
    "freqmat = copy(count_matrix)\n",
    "for i in 1:length(alldatasets)\n",
    "    freqmat[:,i,:] ./= sum(freqmat[:,i,:])\n",
    "end\n",
    "\n",
    "#This is a log count matrix, regularized with a tiny constant.\n",
    "logfreqmat = log10.(freqmat .+ 1/sum(dataset_counts));\n",
    "enrich_mat = zeros(length(variant2ind),length(dataset2ind),num_barcodes);\n",
    "for i in 1:length(alldatasets)\n",
    "    enrich_mat[:,i,:] .= logfreqmat[:,i,:] .- logfreqmat[:,baseline_ind,:]\n",
    "end;\n",
    "\n",
    "#This the the marginal (ie. summed over different barcodes) freq and enrichment matrices.\n",
    "#Freqs are regularized by 1/the number of variants.\n",
    "num_vars = length(variant2ind);\n",
    "marginal_freqs = sum(freqmat,dims = 3)[:,:];\n",
    "#logmarginal_freqs = log10.(marginal_freqs .+ 1/sum(dataset_counts));\n",
    "logmarginal_freqs = log10.(marginal_freqs .+ 1/num_vars);\n",
    "logmarginal_enrich = logmarginal_freqs .- logmarginal_freqs[:,baseline_ind];"
   ]
  },
  {
   "cell_type": "code",
   "execution_count": null,
   "id": "6efffc59",
   "metadata": {},
   "outputs": [],
   "source": [
    "triplet_inds = []\n",
    "for i in 1:size(count_matrix)[1]\n",
    "    tops = sortperm(count_matrix[i,baseline_ind,:],rev = true)[[1,2]]\n",
    "    push!(triplet_inds,(i,tops))\n",
    "end"
   ]
  },
  {
   "cell_type": "code",
   "execution_count": null,
   "id": "5b2aefe2",
   "metadata": {},
   "outputs": [],
   "source": [
    "function plot_box()\n",
    "    plot([0.0,3],[0.0,0.0],\"--\",color = \"blue\", alpha = 0.4)\n",
    "    plot([0.0,0.0],[0.0,3],\"--\",color = \"blue\", alpha = 0.4)\n",
    "    plot([1.5,3],[1.5,1.5],\"--\",color = \"red\", alpha = 0.4)\n",
    "    plot([1.5,1.5],[1.5,3],\"--\",color = \"red\", alpha = 0.4)\n",
    "end\n",
    "lb,ub = -2.5,3.5\n",
    "al = 0.6\n",
    "comap = \"rainbow\""
   ]
  },
  {
   "cell_type": "code",
   "execution_count": null,
   "id": "40cbf902",
   "metadata": {},
   "outputs": [],
   "source": [
    "#starting_size_order = sortperm(sum(count_matrix[:,baseline_ind,:],dims = 2)[:],rev=true);\n",
    "starting_size_order = sortperm(sum(count_matrix,dims = [2,3])[:],rev=true);\n",
    "nu = 50000 #number to plot?\n",
    "for i in 1:length(alldatasets)\n",
    "    figure(figsize = (3,3))\n",
    "    dset = i\n",
    "    pairs = hcat([enrich_mat[i[1],:,i[2]][dset,:] for i in triplet_inds[starting_size_order[1:nu]]]...);\n",
    "    #scatter(pairs[1,:],pairs[2,:],c=min_sizes,cmap = \"rainbow\")\n",
    "    scatter(pairs[1,:],pairs[2,:],s = 1.0, c=\"black\",cmap = comap,alpha = al, linewidth = 0.0)\n",
    "    plot_box()\n",
    "    xlim(lb,ub)\n",
    "    ylim(lb,ub)\n",
    "    xlabel(alldatasets[dset]*\"a\")\n",
    "    ylabel(alldatasets[dset]*\"b\")\n",
    "    tight_layout()\n",
    "    savefig(\"Plots/Correlations/$(alldatasets[dset])_correlation.png\", dpi = 450)\n",
    "end"
   ]
  },
  {
   "cell_type": "code",
   "execution_count": null,
   "id": "94c5aa6f",
   "metadata": {},
   "outputs": [],
   "source": [
    "figure(figsize = (5,1.5))\n",
    "plt.hist(length.(variant_master_list),200:3:460);"
   ]
  },
  {
   "cell_type": "code",
   "execution_count": null,
   "id": "e9f9ed96",
   "metadata": {},
   "outputs": [],
   "source": [
    "#Filtering out barely-observed sequences. This could maybe be more agressive.\n",
    "min_thresh = yaml[\"min_count_thresh\"]\n",
    "marginal_counts = sum(count_matrix,dims = 3)[:,:];\n",
    "keep_inds = (sum(marginal_counts,dims = 2)[:] .>= min_thresh) .& (length.(variant_master_list) .> 275) .& (length.(variant_master_list) .< 450)\n",
    "sum(keep_inds)"
   ]
  },
  {
   "cell_type": "code",
   "execution_count": null,
   "id": "30e829a2",
   "metadata": {},
   "outputs": [],
   "source": [
    "keep_variants = variant_master_list[keep_inds]\n",
    "keep_AAs = robust_translate.(keep_variants);"
   ]
  },
  {
   "cell_type": "code",
   "execution_count": null,
   "id": "06499f4d",
   "metadata": {},
   "outputs": [],
   "source": [
    "gaptrimmed = read_fasta(yaml[\"nanobody_MSA\"])[2];\n",
    "nanobodyprofile = seqs2profile(gaptrimmed);"
   ]
  },
  {
   "cell_type": "code",
   "execution_count": null,
   "id": "2feaec36",
   "metadata": {},
   "outputs": [],
   "source": [
    "@time CDRs = CDRcut.(keep_AAs);"
   ]
  },
  {
   "cell_type": "code",
   "execution_count": null,
   "id": "f983b9e7",
   "metadata": {},
   "outputs": [],
   "source": [
    "region_names = [\"CDR1\",\"CDR2\",\"CDR3\"];\n",
    "nuc_regions = [extract_nuc_regions(keep_variants[i],CDRs[i]) for i in 1:length(keep_variants)];\n",
    "AA_regions = [extract_AA_regions(keep_AAs[i],CDRs[i]) for i in 1:length(keep_AAs)];\n",
    "\n",
    "trimmed_keep_variants = [n[4] for n in nuc_regions];\n",
    "trimmed_keep_AAs = [n[4] for n in AA_regions];\n",
    "\n",
    "got_trimmed = length.(trimmed_keep_variants) .!= length.(keep_variants)\n",
    "write_fasta(\"Logging/trimmed_pairs.fasta\",permutedims([keep_variants[got_trimmed] trimmed_keep_variants[got_trimmed]])[:])"
   ]
  },
  {
   "cell_type": "code",
   "execution_count": null,
   "id": "5e839f35",
   "metadata": {},
   "outputs": [],
   "source": [
    "keep_freqs = logmarginal_freqs[keep_inds,:]\n",
    "keep_enrich = logmarginal_enrich[keep_inds,:]\n",
    "keep_counts = marginal_counts[keep_inds,:];"
   ]
  },
  {
   "cell_type": "code",
   "execution_count": null,
   "id": "94e8f32b",
   "metadata": {},
   "outputs": [],
   "source": [
    "tots = Int64.(sum(keep_counts,dims = 2)[:]);\n",
    "unique_nums = sortperm(sortperm(tots,rev=true));\n",
    "newnames = [a[3] for a in AA_regions] .* \"_\" .* string.(unique_nums) .* \"_\" .* string.(tots);"
   ]
  },
  {
   "cell_type": "code",
   "execution_count": null,
   "id": "cd6b515a",
   "metadata": {},
   "outputs": [],
   "source": [
    "new_df = DataFrame()\n",
    "new_df.names = newnames\n",
    "new_df.size = tots\n",
    "new_df.nuc = trimmed_keep_variants\n",
    "new_df.AA = trimmed_keep_AAs\n",
    "for i in 1:length(region_names)\n",
    "    new_df[!, \"AA_$(region_names[i])\"] = [a[i] for a in AA_regions]\n",
    "end\n",
    "\n",
    "new_df.AA_CDR3_length = length.(new_df.AA_CDR3);\n",
    "\n",
    "#Now we get the nuc CDR3 in here, whcih is required for lineage calling.\n",
    "for i in 1:length(region_names)\n",
    "    new_df[!, \"nuc_$(region_names[i])\"] = [a[i] for a in nuc_regions]\n",
    "end\n",
    "\n",
    "for i in 1:length(alldatasets)\n",
    "    new_df[!, \"count_$(alldatasets[i])\"] = keep_counts[:,i]\n",
    "end\n",
    "\n",
    "for i in 1:length(alldatasets)\n",
    "    new_df[!, \"enrich_$(alldatasets[i])\"] = keep_enrich[:,i]\n",
    "end\n",
    "\n",
    "for i in 1:length(alldatasets)\n",
    "    new_df[!, \"freq_$(alldatasets[i])\"] = keep_freqs[:,i]\n",
    "end"
   ]
  },
  {
   "cell_type": "code",
   "execution_count": null,
   "id": "1c66c0a3",
   "metadata": {},
   "outputs": [],
   "source": [
    "t1 = time()\n",
    "proj = sequmap(new_df.nuc, 2);\n",
    "new_df.UMAP1 = proj[1,:]\n",
    "new_df.UMAP2 = proj[2,:]\n",
    "\n",
    "dim15proj = sequmap(new_df.nuc, 2, pca_maxoutdim = 15);\n",
    "new_df.dim15UMAP1 = dim15proj[1,:]\n",
    "new_df.dim15UMAP2 = dim15proj[2,:]\n",
    "\n",
    "PCAembedding = seqPCA(new_df.nuc);\n",
    "new_df.PCA1 = PCAembedding[1,:]\n",
    "new_df.PCA2 = PCAembedding[2,:]\n",
    "println(\"Embedding: \", time()-t1, \" seconds\")"
   ]
  },
  {
   "cell_type": "code",
   "execution_count": null,
   "id": "045dfae8",
   "metadata": {},
   "outputs": [],
   "source": [
    "#KD-Tree Lineage assignment\n",
    "t1 = time()\n",
    "#This is using the default seqUMAP projection as the basis for lineage calling. #This makes better lineage plots...\n",
    "data = permutedims([new_df.UMAP1 new_df.UMAP2])\n",
    "#but I suspect that using the PCAembedding will give more complete lineages.\n",
    "#data = PCAembedding\n",
    "kdtree = KDTree(data)\n",
    "#This control the radius in which lineages neighbours are searched.\n",
    "#If you switch to PCA embedding above, you'll need a larger value here - like 1.something\n",
    "embedded_dist_cutoff = 0.25 \n",
    "range_inds = inrange(kdtree, data, embedded_dist_cutoff);\n",
    "println(\"Edges to check: \",sum(length.(range_inds)))\n",
    "println(\"NN graph took: \", time()-t1, \" seconds\")"
   ]
  },
  {
   "cell_type": "code",
   "execution_count": null,
   "id": "b901e3c2",
   "metadata": {},
   "outputs": [],
   "source": [
    "t1 = time()\n",
    "#To handle missing CDR3s\n",
    "function kmer_wrap(s)\n",
    "    if length(s) < 4\n",
    "        return zeros(UInt32,256)\n",
    "    else\n",
    "        return kmer_count(s,4)\n",
    "    end\n",
    "end\n",
    "\n",
    "CDR3lengths = length.(new_df.AA_CDR3); \n",
    "CDR3kmers = kmer_wrap.(new_df.nuc_CDR3); \n",
    "CDR3kmermat = Array{Float64,2}(hcat(CDR3kmers...));\n",
    "\n",
    "#I could add a threshold on the rest of the seq in here.\n",
    "#Then the PCA would just be used to structure the search.\n",
    "#And the inclusion itself would be on kmer distances in the original space.\n",
    "CDR3kmer_dist_threshold_eq_len = 0.125#0.15\n",
    "CDR3kmer_dist_threshold_uneq_len = 0.1\n",
    "g = SimpleGraph(size(data)[2]);\n",
    "for v1 in 1:length(range_inds)\n",
    "    for v2 in range_inds[v1]\n",
    "        if v1 != v2\n",
    "            d = corrected_kmer_dist(CDR3kmermat[:,v1],CDR3kmermat[:,v2])\n",
    "            if CDR3lengths[v1] == CDR3lengths[v2]\n",
    "                if d < CDR3kmer_dist_threshold_eq_len\n",
    "                    if !has_edge(g, v1, v2)\n",
    "                        add_edge!(g, v1, v2)\n",
    "                    end\n",
    "                end\n",
    "            else\n",
    "                if d < CDR3kmer_dist_threshold_uneq_len\n",
    "                    if !has_edge(g, v1, v2)\n",
    "                        add_edge!(g, v1, v2)\n",
    "                    end\n",
    "                end\n",
    "            end\n",
    "        end\n",
    "    end\n",
    "end\n",
    "\n",
    "lineages = connected_components(g)\n",
    "lineage_sizes = length.(lineages) #Number of unique sequences in the lineage across all datasets.\n",
    "lineage_ordering = sortperm(lineage_sizes,rev = true)\n",
    "lineage_numbers = zeros(Int64,size(new_df)[1]);\n",
    "for i in 1:length(lineage_ordering)\n",
    "    lineage_numbers[lineages[lineage_ordering[i]]] .= i\n",
    "end\n",
    "new_df.lineage = lineage_numbers;\n",
    "println(\"Lineage assignment took: \", time()-t1, \" seconds\")"
   ]
  },
  {
   "cell_type": "code",
   "execution_count": null,
   "id": "4eba1153",
   "metadata": {},
   "outputs": [],
   "source": [
    "CSV.write(\"Collected/Variants.csv\",new_df);"
   ]
  },
  {
   "cell_type": "markdown",
   "id": "72cde3ed",
   "metadata": {},
   "source": [
    "## Phase III: Visualization\n",
    "This plots the variant data in multiple ways, and allows selecting candidates for synthesis."
   ]
  },
  {
   "cell_type": "code",
   "execution_count": null,
   "id": "4fd3465b",
   "metadata": {},
   "outputs": [],
   "source": [
    "new_df = CSV.read(\"Collected/Variants.csv\",DataFrame);"
   ]
  },
  {
   "cell_type": "code",
   "execution_count": null,
   "id": "bbea5383",
   "metadata": {},
   "outputs": [],
   "source": [
    "lineage_sizes_in_pre = [sum(new_df.count_TyBaseline[new_df.lineage .== l]) for l in sort(union(new_df.lineage))];"
   ]
  },
  {
   "cell_type": "code",
   "execution_count": null,
   "id": "a04e5bc0",
   "metadata": {},
   "outputs": [],
   "source": [
    "figure(figsize = (6,3))\n",
    "bar(1:50,sort(lineage_sizes_in_pre,rev=true)[1:50], 0.5, color = \"blue\")\n",
    "#yscale(\"log\")\n",
    "xlim(0,51)\n",
    "xlabel(\"Lineage (ordered by size)\")\n",
    "ylabel(\"Count\")\n",
    "tight_layout()\n",
    "savefig(\"Plots/BaselineLineageSize.pdf\")"
   ]
  },
  {
   "cell_type": "code",
   "execution_count": null,
   "id": "9e1ce672",
   "metadata": {},
   "outputs": [],
   "source": [
    "function get_hull(emb)\n",
    "    v = [[emb[1,i],emb[2,i]] for i in 1:size(emb)[2]]\n",
    "    hull = convex_hull(v)\n",
    "    return hcat(hull...)\n",
    "end\n",
    "\n",
    "#colorlist = [\"#e6194b\", \"#3cb44b\", \"#ffe119\", \"#4363d8\", \"#f58231\", \"#911eb4\", \n",
    "#    \"#46f0f0\", \"#f032e6\", \"#bcf60c\", \"#fabebe\", \"#008080\", \"#e6beff\", \"#9a6324\", \n",
    "#    \"#fffac8\", \"#800000\", \"#aaffc3\", \"#808000\", \"#ffd8b1\", \"#000075\", \"#808080\"];#, \"#ffffff\", \"#000000\"];\n",
    "\n",
    "colorlist = [\"#e6194b\", \"#3cb44b\", \"#ffe119\", \"#4363d8\", \"#f58231\", \"#911eb4\", \n",
    "    \"#46f0f0\", \"#f032e6\", \"#bcf60c\", \"#fabebe\", \"#008080\", \"#e6beff\", \"#9a6324\", \n",
    "    \"#fffac8\", \"#800000\", \"#aaffc3\", \"#808000\", \"#ffd8b1\", \"#808080\"];"
   ]
  },
  {
   "cell_type": "code",
   "execution_count": null,
   "id": "a11479e1",
   "metadata": {
    "scrolled": false
   },
   "outputs": [],
   "source": [
    "for emb in [\"PCA\",\"UMAP\",\"dim15UMAP\"]\n",
    "    embedding = permutedims([new_df[!,\"$(emb)1\"] new_df[!,\"$(emb)2\"]])\n",
    "\n",
    "    f = figure(figsize = (10.7,11))\n",
    "    f.set_facecolor(\"black\")\n",
    "    axis(\"off\")\n",
    "\n",
    "    #scatter(embedding[1,:],embedding[2,:],color=\"black\",alpha = 0.3,s = big_df.sizes .* 0.08 .+ 0.05, linewidth = 0.0)\n",
    "    #xl = minimum(embedding[1,:]) - 1.0, maximum(embedding[1,:]) + 1.0\n",
    "    #yl = minimum(embedding[2,:]) - 1.0, maximum(embedding[2,:]) + 1.0\n",
    "    scatter(embedding[1,:],embedding[2,:],color=\"white\",alpha = 0.3,s = sqrt.(new_df.size) .* 0.18 .+ 0.05, linewidth = 0.0)\n",
    "    for i in 1:15\n",
    "        col = colorlist[mod(i,length(colorlist))+1]\n",
    "        lin = findall(new_df.lineage .== i)\n",
    "        hull = get_hull(embedding[:,lin])\n",
    "        plt.fill(hull[1,:],hull[2,:], alpha = 0.2, color = col, linewidth = 0.0, joinstyle = \"round\")\n",
    "        plt.fill(hull[1,:],hull[2,:], alpha = 0.35,linewidth = 1.0, edgecolor=col, fill=false, joinstyle = \"round\")\n",
    "        scatter(embedding[1,lin],embedding[2,lin],color=col,alpha = 1.0,s = sqrt.(new_df.size[lin]) .* 0.18 .+ 0.05, linewidth = 0.0)\n",
    "    end\n",
    "\n",
    "    for i in 1:15\n",
    "        #lin = lineages[lineage_ordering[i]]\n",
    "        lin = findall(new_df.lineage .== i)\n",
    "        mu_x = mean(embedding[1,lin])\n",
    "        mu_y = mean(embedding[2,lin])\n",
    "        annotate(string(i), xy=(mu_x,mu_y),fontsize=6, color = \"white\")\n",
    "    end\n",
    "\n",
    "\n",
    "    #xlim(xl)\n",
    "    #ylim(yl)\n",
    "    xlabel(\"seqUMAP1\")\n",
    "    ylabel(\"seqUMAP2\")\n",
    "    #=\n",
    "    cbar = colorbar(fraction=0.026, pad=0.04)\n",
    "    cbar.set_label(\"NA\")\n",
    "    cbar.ax.yaxis.set_tick_params(color=\"black\",width=2, length=5)\n",
    "    cbar.set_ticks([-1.5,0,1.5])\n",
    "    cbar.set_ticklabels([-1.5,0,1.5])\n",
    "    =#\n",
    "    tight_layout()\n",
    "    savefig(\"Plots/Lineages_$(emb).png\", dpi = 400)\n",
    "end\n"
   ]
  },
  {
   "cell_type": "code",
   "execution_count": null,
   "id": "0925adcd",
   "metadata": {},
   "outputs": [],
   "source": [
    "for l in 1:100\n",
    "    inds = new_df.lineage .== l\n",
    "    write_fasta(\"Lineages/lineage_$(l).fasta\",new_df.nuc[inds], names = new_df.names[inds])\n",
    "end"
   ]
  },
  {
   "cell_type": "code",
   "execution_count": null,
   "id": "c88b2eca",
   "metadata": {},
   "outputs": [],
   "source": [
    "conditions = [n for n in names(new_df) if length(n) >= 7 && n[1:7] == \"enrich_\" && n != \"enrich_\"*yaml[\"baseline\"]]"
   ]
  },
  {
   "cell_type": "code",
   "execution_count": null,
   "id": "62f7ffd4",
   "metadata": {
    "scrolled": false
   },
   "outputs": [],
   "source": [
    "toplot = conditions\n",
    "push!(toplot,\"AA_CDR3_length\")\n",
    "for emb in [\"PCA\",\"UMAP\",\"dim15UMAP\"]\n",
    "    for tp in toplot\n",
    "        f = figure(figsize = (12,11))\n",
    "        f.set_facecolor(\"black\")\n",
    "        #style.use(\"dark_background\")\n",
    "        axis(\"off\")\n",
    "        #scatter(proj[1,:],proj[2,:], s = sqrt.(new_df.size ./ 100), alpha = 0.7, c = clamp.(new_df[:,tp],0,2), cmap = \"rainbow\")\n",
    "\n",
    "\n",
    "        colo = new_df[:,tp]\n",
    "        plotorder = sortperm(colo)\n",
    "        colo = clamp.(colo,-1.5,Inf)\n",
    "        scatter(new_df[!,\"$(emb)1\"][plotorder],new_df[!,\"$(emb)2\"][plotorder],c = colo[plotorder],cmap = \"jet\", s = sqrt.(new_df.size[plotorder]) .* 0.18 .+ 0.05, linewidth = 0.0)\n",
    "        cbar = colorbar(fraction=0.026, pad=0.04)\n",
    "        cbar.set_label(tp, color = \"white\")\n",
    "        cbar.ax.yaxis.set_tick_params(color=\"white\",width=2, length=5)\n",
    "        cbar.set_ticks([-1.5,0,1.5])\n",
    "        cbar.set_ticklabels([-1.5,0,1.5])\n",
    "        tight_layout()\n",
    "    #    for i in labelled_inds\n",
    "    #        annotate(new_df.special_labels[i], xy=(new_df.UMAP1[i],new_df.UMAP2[i]),fontsize=8)\n",
    "    #    end\n",
    "        savefig(\"Plots/$(tp)_$(emb).png\", dpi = 450)\n",
    "    end\n",
    "end"
   ]
  },
  {
   "cell_type": "code",
   "execution_count": null,
   "id": "af351fe7",
   "metadata": {},
   "outputs": [],
   "source": [
    "select_from = [\"enrich_\"*d[\"label\"] for d in yaml[\"select_candidates_from\"]]"
   ]
  },
  {
   "cell_type": "code",
   "execution_count": null,
   "id": "c4b4cc40",
   "metadata": {},
   "outputs": [],
   "source": [
    "#Rotate through enrichments and make an automated selection\n",
    "choices = Int64[]\n",
    "c = 1\n",
    "for i in 1:33\n",
    "    for condition in select_from\n",
    "        choices = prioritize(new_df[:,condition], c, previously_selected = choices, AAs = new_df.AA, lineages = new_df.lineage, CDR3s = new_df.AA_CDR3);\n",
    "        c += 1\n",
    "    end\n",
    "end\n",
    "\n",
    "write_fasta(\"Selections/Selected.fasta\",new_df.nuc[choices],names = new_df.names[choices] .* \"-\" .* string.(new_df.lineage[choices]))\n",
    "CSV.write(\"Selections/SelectedVariants.csv\",sort(new_df[choices,:]));"
   ]
  },
  {
   "cell_type": "code",
   "execution_count": null,
   "id": "1bbde64a",
   "metadata": {},
   "outputs": [],
   "source": [
    "#Hardcoded choice\n",
    "x = select_from[1]\n",
    "y = select_from[2]\n",
    "figure(figsize = (7,7))\n",
    "scatter(new_df[:,x],new_df[:,y],c = \"blue\",cmap = \"jet\", s = sqrt.(new_df.size) .* 0.08 .+ 1.0, linewidth = 0.0, alpha = 0.1)\n",
    "scatter(new_df[choices,x],new_df[choices,y],c = \"red\",cmap = \"jet\", s = sqrt.(new_df.size[choices]) .* 0.08 .+ 1.0, linewidth = 0.5)\n",
    "xlabel(x)\n",
    "ylabel(y)\n",
    "savefig(\"Plots/Selected_EnrichCoords.png\", dpi = 450)"
   ]
  },
  {
   "cell_type": "code",
   "execution_count": null,
   "id": "0832a68d",
   "metadata": {
    "scrolled": false
   },
   "outputs": [],
   "source": [
    "for emb in [\"PCA\",\"UMAP\",\"dim15UMAP\"]    \n",
    "    f = figure(figsize = (10.7,11))\n",
    "    f.set_facecolor(\"black\")\n",
    "    axis(\"off\")\n",
    "    colo = new_df.size\n",
    "    plotorder = sortperm(colo)\n",
    "    colo = clamp.(colo,-1.5,Inf)\n",
    "    scatter(new_df[!,\"$(emb)1\"][plotorder],new_df[!,\"$(emb)2\"][plotorder],c = \"blue\", alpha = 1.0, s = sqrt.(new_df.size[plotorder]) .* 0.08 .+ 0.05, linewidth = 0.0)\n",
    "    scatter(new_df[!,\"$(emb)1\"][choices],new_df[!,\"$(emb)2\"][choices],c = \"red\", s = sqrt.(new_df.size[choices]) .* 0.08 .+ 2.0, linewidth = 0.0)\n",
    "    for i in choices\n",
    "        annotate(string(new_df.lineage[i]), xy=(new_df[!,\"$(emb)1\"][i],new_df[!,\"$(emb)2\"][i]),fontsize=8, color = \"white\")\n",
    "    end\n",
    "    tight_layout()\n",
    "    savefig(\"Plots/Selected_$(emb).png\", dpi = 450)\n",
    "end"
   ]
  },
  {
   "cell_type": "code",
   "execution_count": null,
   "id": "612235b8",
   "metadata": {},
   "outputs": [],
   "source": [
    "#If you want to find a specific sequence by AA\n",
    "#=\n",
    "query = \"GGLVQPGGSLRLSCAASGFTFSSVYMNWVRQAPGKGPEWVSRISPNSGNIGYTDSVKGRFTISRDNAKNTLYLQMNNLKPEDTALYYCAIGLNLSSSSVRGQGTQVTVSS\";\n",
    "query_inds = findall(new_df.AA .== query)\n",
    "query_pos = query_inds[argmax(new_df.size[query_inds])]\n",
    "query_df = DataFrame()\n",
    "query_df.Label = [\"Ty1\"]\n",
    "query_df.nuc_sequence = [new_df.nuc[query_pos]]\n",
    "CSV.write(\"special.csv\",query_df)\n",
    "=#"
   ]
  },
  {
   "cell_type": "code",
   "execution_count": null,
   "id": "11e4a786",
   "metadata": {},
   "outputs": [],
   "source": [
    "if isfile(yaml[\"variant_whitelist\"])\n",
    "    special_df = CSV.read(yaml[\"variant_whitelist\"],DataFrame);\n",
    "    special_dict = Dict(zip(special_df.nuc_sequence,special_df.Label))\n",
    "    special_labels = [get(special_dict,n,\"\") for n in new_df.nuc];\n",
    "    labelled_inds = findall(special_labels .!= \"\");\n",
    "    new_df.special_labels = special_labels\n",
    "else\n",
    "    new_df.special_labels = [\"\" for i in 1:size(new_df)[1]]\n",
    "    println(\"No whitelist\")\n",
    "end;"
   ]
  },
  {
   "cell_type": "code",
   "execution_count": null,
   "id": "eb8a86b9",
   "metadata": {
    "scrolled": false
   },
   "outputs": [],
   "source": [
    "if isfile(yaml[\"variant_whitelist\"])\n",
    "    toplot = conditions\n",
    "    push!(toplot,\"AA_CDR3_length\")\n",
    "    for emb in [\"PCA\",\"UMAP\",\"dim15UMAP\"]\n",
    "        for tp in toplot\n",
    "            f = figure(figsize = (12,11))\n",
    "            f.set_facecolor(\"black\")\n",
    "            #style.use(\"dark_background\")\n",
    "            axis(\"off\")\n",
    "            #scatter(proj[1,:],proj[2,:], s = sqrt.(new_df.size ./ 100), alpha = 0.7, c = clamp.(new_df[:,tp],0,2), cmap = \"rainbow\")\n",
    "\n",
    "\n",
    "            colo = new_df[:,tp]\n",
    "            plotorder = sortperm(colo)\n",
    "            colo = clamp.(colo,-1.5,Inf)\n",
    "            scatter(new_df[!,\"$(emb)1\"][plotorder],new_df[!,\"$(emb)2\"][plotorder],c = colo[plotorder],cmap = \"jet\", s = sqrt.(new_df.size[plotorder]) .* 0.18 .+ 0.05, linewidth = 0.0)\n",
    "            cbar = colorbar(fraction=0.026, pad=0.04)\n",
    "            cbar.set_label(tp, color = \"white\")\n",
    "            cbar.ax.yaxis.set_tick_params(color=\"white\",width=2, length=5)\n",
    "            cbar.set_ticks([-1.5,0,1.5])\n",
    "            cbar.set_ticklabels([-1.5,0,1.5])\n",
    "            tight_layout()\n",
    "            for i in findall(new_df.special_labels .!= \"\")\n",
    "                annotate(new_df.special_labels[i], xy=(new_df[!,\"$(emb)1\"][i],new_df[!,\"$(emb)2\"][i]),fontsize=8, color = \"white\")\n",
    "            end\n",
    "            savefig(\"Plots/$(tp)_$(emb)_Labelled.png\", dpi = 450)\n",
    "        end\n",
    "    end\n",
    "else\n",
    "    println(\"No whitelist\")\n",
    "end"
   ]
  },
  {
   "cell_type": "code",
   "execution_count": null,
   "id": "252e7d70",
   "metadata": {},
   "outputs": [],
   "source": []
  }
 ],
 "metadata": {
  "kernelspec": {
   "display_name": "Julia 1.6.3",
   "language": "julia",
   "name": "julia-1.6"
  },
  "language_info": {
   "file_extension": ".jl",
   "mimetype": "application/julia",
   "name": "julia",
   "version": "1.6.3"
  }
 },
 "nbformat": 4,
 "nbformat_minor": 5
}
